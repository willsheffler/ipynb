{
 "cells": [
  {
   "cell_type": "code",
   "execution_count": 13,
   "metadata": {
    "collapsed": false
   },
   "outputs": [
    {
     "data": {
      "text/plain": [
       "True"
      ]
     },
     "execution_count": 13,
     "metadata": {},
     "output_type": "execute_result"
    }
   ],
   "source": [
    "import os\n",
    "from pysetta import devel\n",
    "from pysetta.core.pose import Pose\n",
    "from pysetta.core.import_pose import pose_from_file\n",
    "\n",
    "args = \"dummy -database \"+os.environ['CMAKE_ROSETTA_PATH']+\"/database\"\n",
    "devel.init( args.split() )\n",
    "p = Pose()\n",
    "p.dump_pdb(\"test.pdb\")\n",
    "p = pose_from_file(\"/work/sheffler/1ffw_native.pdb\")\n",
    "p.dump_pdb(\"test2.pdb\")"
   ]
  },
  {
   "cell_type": "code",
   "execution_count": 14,
   "metadata": {
    "collapsed": false
   },
   "outputs": [],
   "source": [
    "assert os.path.exists(\"test.pdb\")\n",
    "assert os.path.exists(\"test2.pdb\")"
   ]
  },
  {
   "cell_type": "code",
   "execution_count": 15,
   "metadata": {
    "collapsed": false
   },
   "outputs": [],
   "source": [
    "os.remove(\"test.pdb\")\n",
    "os.remove(\"test2.pdb\")"
   ]
  }
 ],
 "metadata": {
  "kernelspec": {
   "display_name": "Python 3",
   "language": "python",
   "name": "python3"
  },
  "language_info": {
   "codemirror_mode": {
    "name": "ipython",
    "version": 3
   },
   "file_extension": ".py",
   "mimetype": "text/x-python",
   "name": "python",
   "nbconvert_exporter": "python",
   "pygments_lexer": "ipython3",
   "version": "3.5.1"
  }
 },
 "nbformat": 4,
 "nbformat_minor": 0
}

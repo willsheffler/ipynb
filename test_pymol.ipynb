{
 "cells": [
  {
   "cell_type": "code",
   "execution_count": 3,
   "metadata": {
    "collapsed": false
   },
   "outputs": [],
   "source": [
    "from __future__ import (absolute_import, division, print_function, unicode_literals)\n",
    "from builtins import *\n",
    "from xmlrpc.client import ServerProxy\n",
    "pymol = ServerProxy(uri=\"http://localhost:9123/RPC2\")"
   ]
  },
  {
   "cell_type": "code",
   "execution_count": 6,
   "metadata": {
    "collapsed": false
   },
   "outputs": [
    {
     "name": "stdout",
     "output_type": "stream",
     "text": [
      "1pgx\n",
      "83\n"
     ]
    }
   ],
   "source": [
    "try:\n",
    "    pymol.delete('all')\n",
    "    print(pymol.fetch(\"1pgx\"))\n",
    "    print(pymol.select('name ca'))\n",
    "except:\n",
    "    print(\"no pymol running on localhost:9123?\")"
   ]
  }
 ],
 "metadata": {
  "kernelspec": {
   "display_name": "Python 3",
   "language": "python",
   "name": "python3"
  },
  "language_info": {
   "codemirror_mode": {
    "name": "ipython",
    "version": 3
   },
   "file_extension": ".py",
   "mimetype": "text/x-python",
   "name": "python",
   "nbconvert_exporter": "python",
   "pygments_lexer": "ipython3",
   "version": "3.5.1"
  }
 },
 "nbformat": 4,
 "nbformat_minor": 0
}

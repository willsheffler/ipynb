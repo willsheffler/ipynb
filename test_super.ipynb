{
 "cells": [
  {
   "cell_type": "code",
   "execution_count": 21,
   "metadata": {
    "collapsed": false
   },
   "outputs": [
    {
     "name": "stdout",
     "output_type": "stream",
     "text": [
      "E mro: E,C,D,A,B,object\n",
      "E.fooC CDA\n",
      "C.fooC CA\n",
      "E.footest ECDA\n",
      "D.foo DA\n",
      "C.foo CA\n"
     ]
    }
   ],
   "source": [
    "class A:\n",
    "    def foo(self): return \"A\"\n",
    "    def fooA(self): return \"A\"\n",
    "class B:\n",
    "    def foo(self): return \"B\" + super().foo()\n",
    "    def fooB(self): return \"B\" + super().foo()\n",
    "class C(A,B): \n",
    "    def foo(self): return \"C\" + super().foo()\n",
    "    def fooC(self): return \"C\" + super().foo()\n",
    "class D(A): \n",
    "    def foo(self): return \"D\" + super().foo()\n",
    "    def fooD(self): return \"D\" + super().foo()\n",
    "class E(C,D): \n",
    "    def footest(self): return \"E\" + self.foo()\n",
    "\n",
    "print(\"E mro:\", \",\".join(m.__name__ for m in E.__mro__))\n",
    "print(\"E.fooC\",E().fooC())\n",
    "print(\"C.fooC\",C().fooC())\n",
    "print(\"E.footest\",E().footest())\n",
    "print(\"D.foo\",D().foo())\n",
    "print(\"C.foo\",C().foo())"
   ]
  },
  {
   "cell_type": "code",
   "execution_count": null,
   "metadata": {
    "collapsed": true
   },
   "outputs": [],
   "source": []
  }
 ],
 "metadata": {
  "kernelspec": {
   "display_name": "Python 3",
   "language": "python",
   "name": "python3"
  },
  "language_info": {
   "codemirror_mode": {
    "name": "ipython",
    "version": 3
   },
   "file_extension": ".py",
   "mimetype": "text/x-python",
   "name": "python",
   "nbconvert_exporter": "python",
   "pygments_lexer": "ipython3",
   "version": "3.5.1"
  }
 },
 "nbformat": 4,
 "nbformat_minor": 0
}

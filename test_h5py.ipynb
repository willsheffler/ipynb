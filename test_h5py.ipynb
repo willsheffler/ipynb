{
 "cells": [
  {
   "cell_type": "code",
   "execution_count": 1,
   "metadata": {
    "collapsed": true
   },
   "outputs": [],
   "source": [
    "from __future__ import (absolute_import, division, print_function, unicode_literals)\n",
    "from builtins import *\n",
    "import h5py\n",
    "import numpy as np"
   ]
  },
  {
   "cell_type": "code",
   "execution_count": 2,
   "metadata": {
    "collapsed": false
   },
   "outputs": [],
   "source": [
    "temperature = np.random.random(1024)\n",
    "dt = 10.0\n",
    "start_time = 1375204299 # in Unix time\n",
    "station = 15\n",
    "#np.savez(\"weather.npz\", data=temperature, start_time=start_time, station= station)\n",
    "wind = np.random.random(2048)\n",
    "dt_wind = 5.0"
   ]
  },
  {
   "cell_type": "code",
   "execution_count": 3,
   "metadata": {
    "collapsed": false
   },
   "outputs": [
    {
     "name": "stdout",
     "output_type": "stream",
     "text": [
      "Unable to create link (Name already exists)\n"
     ]
    }
   ],
   "source": [
    "f = h5py.File(\"weather.h5\")\n",
    "try:\n",
    "    f[\"/15/temperature\"] = temperature\n",
    "    f[\"/15/temperature\"].attrs[\"dt\"] = 10.0\n",
    "    f[\"/15/temperature\"].attrs[\"start_time\"] = 1375204299\n",
    "    f[\"/15/wind\"] = wind\n",
    "    f[\"/15/wind\"].attrs[\"dt\"] = 5.0\n",
    "except RuntimeError as e:\n",
    "    print(e)"
   ]
  },
  {
   "cell_type": "code",
   "execution_count": 4,
   "metadata": {
    "collapsed": false
   },
   "outputs": [
    {
     "name": "stdout",
     "output_type": "stream",
     "text": [
      "dt: 10.0\n",
      "start_time: 1375204299\n"
     ]
    }
   ],
   "source": [
    "dataset = f[\"/15/temperature\"]\n",
    "for key, value in dataset.attrs.items():\n",
    "    print( \"%s: %s\" % (key, value) )"
   ]
  },
  {
   "cell_type": "code",
   "execution_count": 5,
   "metadata": {
    "collapsed": false
   },
   "outputs": [
    {
     "data": {
      "text/plain": [
       "array([ 0.11089519,  0.74264649,  0.62727757,  0.29345568,  0.92276722,\n",
       "        0.51880803,  0.65254193,  0.73881371,  0.20590159,  0.15472966])"
      ]
     },
     "execution_count": 5,
     "metadata": {},
     "output_type": "execute_result"
    }
   ],
   "source": [
    "dataset[:10]"
   ]
  },
  {
   "cell_type": "code",
   "execution_count": null,
   "metadata": {
    "collapsed": false
   },
   "outputs": [],
   "source": []
  }
 ],
 "metadata": {
  "kernelspec": {
   "display_name": "Python 2",
   "language": "python",
   "name": "python2"
  },
  "language_info": {
   "codemirror_mode": {
    "name": "ipython",
    "version": 2
   },
   "file_extension": ".py",
   "mimetype": "text/x-python",
   "name": "python",
   "nbconvert_exporter": "python",
   "pygments_lexer": "ipython2",
   "version": "2.7.10"
  }
 },
 "nbformat": 4,
 "nbformat_minor": 0
}

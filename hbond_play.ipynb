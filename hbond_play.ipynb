{
 "cells": [
  {
   "cell_type": "code",
   "execution_count": null,
   "metadata": {
    "collapsed": false
   },
   "outputs": [],
   "source": [
    "import rosetta\n",
    "import numpy as np\n",
    "import pandas as pd\n",
    "from bokeh.plotting import figure, output_file, show\n",
    "from bokeh.io import output_notebook\n",
    "rosetta.init(extra_options = \"-add_orbitals 1\")\n",
    "output_notebook()"
   ]
  },
  {
   "cell_type": "code",
   "execution_count": 12,
   "metadata": {
    "collapsed": false
   },
   "outputs": [
    {
     "name": "stdout",
     "output_type": "stream",
     "text": [
      "\u001b[0mcore.chemical.ResidueTypeSet: \u001b[0mFinished initializing fa_standard residue type set.  Created 387 residue types\n",
      "\u001b[0mcore.chemical.ResidueTypeSet: \u001b[0mTotal time to initialize 0.480289 seconds.\n"
     ]
    }
   ],
   "source": [
    "pose = rosetta.core.pose.Pose()\n",
    "rosetta.core.import_pose.pose_from_file(pose, \"/Users/sheffler/1ffw_native.pdb\")"
   ]
  },
  {
   "cell_type": "code",
   "execution_count": 13,
   "metadata": {
    "collapsed": false
   },
   "outputs": [
    {
     "name": "stdout",
     "output_type": "stream",
     "text": [
      "\u001b[0mcore.scoring.ScoreFunctionFactory: \u001b[0mSCOREFUNCTION: \u001b[32mtalaris2014\u001b[0m\n",
      "\u001b[0mcore.scoring.etable: \u001b[0mStarting energy table calculation\n",
      "\u001b[0mcore.scoring.etable: \u001b[0msmooth_etable: changing atr/rep split to bottom of energy well\n",
      "\u001b[0mcore.scoring.etable: \u001b[0msmooth_etable: spline smoothing lj etables (maxdis = 6)\n",
      "\u001b[0mcore.scoring.etable: \u001b[0msmooth_etable: spline smoothing solvation etables (max_dis = 6)\n",
      "\u001b[0mcore.scoring.etable: \u001b[0mFinished calculating energy tables.\n",
      "\u001b[0mbasic.io.database: \u001b[0mDatabase file opened: scoring/score_functions/hbonds/sp2_elec_params/HBPoly1D.csv\n",
      "\u001b[0mbasic.io.database: \u001b[0mDatabase file opened: scoring/score_functions/hbonds/sp2_elec_params/HBFadeIntervals.csv\n",
      "\u001b[0mbasic.io.database: \u001b[0mDatabase file opened: scoring/score_functions/hbonds/sp2_elec_params/HBEval.csv\n",
      "\u001b[0mbasic.io.database: \u001b[0mDatabase file opened: scoring/score_functions/rama/Rama_smooth_dyn.dat_ss_6.4\n",
      "\u001b[0mbasic.io.database: \u001b[0mDatabase file opened: scoring/score_functions/P_AA_pp/P_AA\n",
      "\u001b[0mbasic.io.database: \u001b[0mDatabase file opened: scoring/score_functions/P_AA_pp/P_AA_n\n",
      "\u001b[0mbasic.io.database: \u001b[0mDatabase file opened: scoring/score_functions/P_AA_pp/P_AA_pp\n",
      "\u001b[0mcore.pack.dunbrack.RotamerLibrary: \u001b[0mUsing Dunbrack library binary file '/Users/sheffler/sw/PyRosetta.namespace.mac.release-98/database/rotamer/ExtendedOpt1-5/Dunbrack10.lib.bin'.\n",
      "\u001b[0mcore.pack.dunbrack.RotamerLibrary: \u001b[0mDunbrack 2010 library took 0.152348 seconds to load from binary\n"
     ]
    },
    {
     "data": {
      "text/plain": [
       "85.29013777910983"
      ]
     },
     "execution_count": 13,
     "metadata": {},
     "output_type": "execute_result"
    }
   ],
   "source": [
    "sf = rosetta.get_fa_scorefxn()\n",
    "opts = sf.energy_method_options()\n",
    "opts.hbond_options().decompose_bb_hb_into_pair_energies(True)\n",
    "opts.hbond_options().use_hb_env_dep(False)\n",
    "sf.set_energy_method_options(opts)\n",
    "sf.score(pose)"
   ]
  },
  {
   "cell_type": "code",
   "execution_count": 14,
   "metadata": {
    "collapsed": false
   },
   "outputs": [],
   "source": [
    "hbset = rosetta.core.scoring.hbonds.HBondSet()\n",
    "rosetta.core.scoring.hbonds.fill_hbond_set(pose,False,hbset)\n",
    "hbscore, hbdis = [],[]\n",
    "for i in range(1,hbset.nhbonds()+1):\n",
    "    hb = hbset.hbond(i)\n",
    "#     if hb.energy() > -0.8:\n",
    "#         continue\n",
    "    rdon = pose.residue(hb.don_res())\n",
    "    racc = pose.residue(hb.acc_res())\n",
    "    ih = hb.don_hatm()\n",
    "    ib = rdon.atom_base(ih)\n",
    "    ia = hb.acc_atm()\n",
    "    hname = rdon.atom_name(ih)\n",
    "    bname = rdon.atom_name(ib)\n",
    "    aname = racc.atom_name(ia)\n",
    "    xyzbase = rdon.xyz(ih)\n",
    "    xyzacc = racc.xyz(ia)\n",
    "#     print \"DON:\", rdon.atom_name(ih), xyzbase, xyzbase.distance(xyzacc)\n",
    "#     print \"ACC:\", racc.atom_name(ia), xyzacc\n",
    "    hodists = [xyzbase.distance(racc.orbital_xyz(borb)) \n",
    "               for borb in racc.bonded_orbitals(ia)]\n",
    "    for i, hodis in enumerate(hodists):\n",
    "        if hodis == min(hodists):\n",
    "            break\n",
    "    io = racc.bonded_orbitals(ia)[i+1]\n",
    "    xyzorb = racc.orbital_xyz(io)\n",
    "    oname = racc.orbital_name(io)\n",
    "#     print hb.energy(), hodis, bname, hname, oname, aname\n",
    "    hbscore.append(hb.energy())\n",
    "    hbdis.append(hodis)\n",
    "#scoredist = np.zeros((len(hbdata),2))\n",
    "#for i, (score, dist) in enumerate(hbdata):\n",
    "#    scoredist[i,0] = score\n",
    "#    scoredist[i,1] = dist\n"
   ]
  },
  {
   "cell_type": "code",
   "execution_count": 15,
   "metadata": {
    "collapsed": false
   },
   "outputs": [
    {
     "data": {
      "text/html": [
       "\n",
       "\n",
       "    <div class=\"plotdiv\" id=\"7fc56ce0-ced5-48c9-b695-71495730c81d\"></div>\n",
       "<script type=\"text/javascript\">\n",
       "  \n",
       "  (function(global) {\n",
       "    function now() {\n",
       "      return new Date();\n",
       "    }\n",
       "  \n",
       "    if (typeof (window._bokeh_onload_callbacks) === \"undefined\") {\n",
       "      window._bokeh_onload_callbacks = [];\n",
       "    }\n",
       "  \n",
       "    function run_callbacks() {\n",
       "      window._bokeh_onload_callbacks.forEach(function(callback) { callback() });\n",
       "      delete window._bokeh_onload_callbacks\n",
       "      console.info(\"Bokeh: all callbacks have finished\");\n",
       "    }\n",
       "  \n",
       "    function load_libs(js_urls, callback) {\n",
       "      window._bokeh_onload_callbacks.push(callback);\n",
       "      if (window._bokeh_is_loading > 0) {\n",
       "        console.log(\"Bokeh: BokehJS is being loaded, scheduling callback at\", now());\n",
       "        return null;\n",
       "      }\n",
       "      if (js_urls == null || js_urls.length === 0) {\n",
       "        run_callbacks();\n",
       "        return null;\n",
       "      }\n",
       "      console.log(\"Bokeh: BokehJS not loaded, scheduling load and callback at\", now());\n",
       "      window._bokeh_is_loading = js_urls.length;\n",
       "      for (var i = 0; i < js_urls.length; i++) {\n",
       "        var url = js_urls[i];\n",
       "        var s = document.createElement('script');\n",
       "        s.src = url;\n",
       "        s.async = false;\n",
       "        s.onreadystatechange = s.onload = function() {\n",
       "          window._bokeh_is_loading--;\n",
       "          if (window._bokeh_is_loading === 0) {\n",
       "            console.log(\"Bokeh: all BokehJS libraries loaded\");\n",
       "            run_callbacks()\n",
       "          }\n",
       "        };\n",
       "        s.onerror = function() {\n",
       "          console.warn(\"failed to load library \" + url);\n",
       "        };\n",
       "        console.log(\"Bokeh: injecting script tag for BokehJS library: \", url);\n",
       "        document.getElementsByTagName(\"head\")[0].appendChild(s);\n",
       "      }\n",
       "    };var element = document.getElementById(\"7fc56ce0-ced5-48c9-b695-71495730c81d\");\n",
       "    if (element == null) {\n",
       "      console.log(\"Bokeh: ERROR: autoload.js configured with elementid '7fc56ce0-ced5-48c9-b695-71495730c81d' but no matching script tag was found. \")\n",
       "      return false;\n",
       "    }\n",
       "  \n",
       "    var js_urls = [];\n",
       "  \n",
       "    var inline_js = [\n",
       "      function(Bokeh) {\n",
       "        Bokeh.$(function() {\n",
       "            var docs_json = {\"65ad7e59-744b-4c46-bf35-ee36b3e9bc0b\":{\"roots\":{\"references\":[{\"attributes\":{\"fill_color\":{\"value\":\"#1f77b4\"},\"line_color\":{\"value\":\"#1f77b4\"},\"x\":{\"field\":\"x\"},\"y\":{\"field\":\"y\"}},\"id\":\"80eac9c5-3cf9-4690-a9f7-9fc36f2b5e33\",\"type\":\"Circle\"},{\"attributes\":{\"dimension\":1,\"plot\":{\"id\":\"be103f5d-fe7f-4b28-914f-0c9030ea5f47\",\"subtype\":\"Figure\",\"type\":\"Plot\"},\"ticker\":{\"id\":\"41d63b48-d270-4023-9fa4-487bac3036b9\",\"type\":\"BasicTicker\"}},\"id\":\"44ab9bd5-f30c-4e86-a127-52ca9a85f839\",\"type\":\"Grid\"},{\"attributes\":{},\"id\":\"21b21517-fbaa-44d0-a60e-5ec76fc13a3d\",\"type\":\"ToolEvents\"},{\"attributes\":{\"plot\":{\"id\":\"d954f117-62e5-4d8d-8ea6-6a8a7ea92c59\",\"subtype\":\"Figure\",\"type\":\"Plot\"},\"ticker\":{\"id\":\"8327f51f-1993-44d3-9034-2a5518eb9135\",\"type\":\"BasicTicker\"}},\"id\":\"d93d9d0d-5bb2-44c8-87b7-266bf8b5cbc8\",\"type\":\"Grid\"},{\"attributes\":{\"bottom_units\":\"screen\",\"fill_alpha\":{\"value\":0.5},\"fill_color\":{\"value\":\"lightgrey\"},\"left_units\":\"screen\",\"level\":\"overlay\",\"line_alpha\":{\"value\":1.0},\"line_color\":{\"value\":\"black\"},\"line_dash\":[4,4],\"line_width\":{\"value\":2},\"plot\":null,\"render_mode\":\"css\",\"right_units\":\"screen\",\"top_units\":\"screen\"},\"id\":\"24da18e2-aacc-4fda-a322-988cdf59080f\",\"type\":\"BoxAnnotation\"},{\"attributes\":{\"fill_alpha\":{\"value\":0.1},\"fill_color\":{\"value\":\"#1f77b4\"},\"line_alpha\":{\"value\":0.1},\"line_color\":{\"value\":\"#1f77b4\"},\"x\":{\"field\":\"x\"},\"y\":{\"field\":\"y\"}},\"id\":\"0e9accd9-fa7b-4322-89ca-cb357b8d98da\",\"type\":\"Circle\"},{\"attributes\":{},\"id\":\"965483bf-681b-4fbf-a1da-e94e8635f7b4\",\"type\":\"BasicTickFormatter\"},{\"attributes\":{\"overlay\":{\"id\":\"24da18e2-aacc-4fda-a322-988cdf59080f\",\"type\":\"BoxAnnotation\"},\"plot\":{\"id\":\"75cbb985-1ea5-4dba-aff2-ad02068eaefc\",\"subtype\":\"Figure\",\"type\":\"Plot\"}},\"id\":\"986dd84b-eb4c-4052-8d02-d90644157c87\",\"type\":\"BoxZoomTool\"},{\"attributes\":{\"plot\":{\"id\":\"75cbb985-1ea5-4dba-aff2-ad02068eaefc\",\"subtype\":\"Figure\",\"type\":\"Plot\"}},\"id\":\"c891e88f-b1f8-4d64-ba18-d9fe20d7fe0a\",\"type\":\"ResetTool\"},{\"attributes\":{},\"id\":\"359d666c-8aa4-48d0-830a-c97216a17ef4\",\"type\":\"ToolEvents\"},{\"attributes\":{\"callback\":null,\"column_names\":[\"y\",\"x\"],\"data\":{\"x\":[1,2,3],\"y\":[2,3,4]}},\"id\":\"fcf3738c-b143-4496-b9d6-caef470cbea3\",\"type\":\"ColumnDataSource\"},{\"attributes\":{\"below\":[{\"id\":\"58aa4a67-bd4a-4b44-863f-b8ea4e0bd43e\",\"type\":\"LinearAxis\"}],\"left\":[{\"id\":\"342f171b-9a69-4d88-bcfe-cc101d54b5c2\",\"type\":\"LinearAxis\"}],\"renderers\":[{\"id\":\"58aa4a67-bd4a-4b44-863f-b8ea4e0bd43e\",\"type\":\"LinearAxis\"},{\"id\":\"df8396d0-240a-4495-a435-589dcd41d0a2\",\"type\":\"Grid\"},{\"id\":\"342f171b-9a69-4d88-bcfe-cc101d54b5c2\",\"type\":\"LinearAxis\"},{\"id\":\"21261a4f-12dc-4b29-825c-745e36fe8609\",\"type\":\"Grid\"},{\"id\":\"81e4e95f-e476-43c7-8471-1ff08b6bb19b\",\"type\":\"BoxAnnotation\"}],\"title\":\"Bokeh Markers\",\"tool_events\":{\"id\":\"359d666c-8aa4-48d0-830a-c97216a17ef4\",\"type\":\"ToolEvents\"},\"toolbar_location\":null,\"tools\":[{\"id\":\"854d1f74-6042-4db8-bed2-bf45a324376d\",\"type\":\"PanTool\"},{\"id\":\"3a1e6e18-3f29-44cf-b5a7-64acd1123d46\",\"type\":\"WheelZoomTool\"},{\"id\":\"493a531b-169b-494f-a15e-3d082db2af64\",\"type\":\"BoxZoomTool\"},{\"id\":\"ee6d4c2a-429a-4e95-80f2-7745086bbce5\",\"type\":\"PreviewSaveTool\"},{\"id\":\"f11ed325-076f-420a-8b1a-7bf935807f4b\",\"type\":\"ResizeTool\"},{\"id\":\"7e6fef61-2e3a-4589-b4ac-be9d3b61809b\",\"type\":\"ResetTool\"},{\"id\":\"4829c078-003f-465b-9fb0-4f0aa79e4837\",\"type\":\"HelpTool\"}],\"x_range\":{\"id\":\"d5e8f2d0-dd0d-41de-a3b6-8d5d0327b40d\",\"type\":\"DataRange1d\"},\"y_range\":{\"id\":\"34da50d3-eeda-4b24-aa69-ed37ae6352bf\",\"type\":\"DataRange1d\"}},\"id\":\"3025ef3f-6e2b-45f4-a6ea-f072cee80b8d\",\"subtype\":\"Figure\",\"type\":\"Plot\"},{\"attributes\":{\"plot\":{\"id\":\"b11e231e-7304-491b-a80d-aee8dd5d2609\",\"subtype\":\"Figure\",\"type\":\"Plot\"}},\"id\":\"fd7454f7-6eff-4732-a551-088468616c2c\",\"type\":\"PanTool\"},{\"attributes\":{\"callback\":null,\"column_names\":[\"y\",\"x\"],\"data\":{\"x\":[2.0428303019898535,1.8924405167317804,2.0423571094970883,1.4259570374915091,1.9515927546182164,1.3089377270168758,1.4704347900678756,1.4805297000643205,1.706284751598781,1.4874914049592483,1.651754032290055,1.463921418990821,1.6609944562811543,1.2810114388740819,1.6623172980940764,1.8068598861641827,1.794842494968167,1.8173090028682124,1.4533826425945133,1.6869809201531096,1.9476623428290052,1.2479809223973437,1.609836998374925,1.4947255344253152,1.5627712522579262,1.7332120311000954,1.907616471310952,1.8301138217451118,1.4834076936209075,1.5039199494487183,2.025345198438731,1.4074029814913964,1.9874018576662882,2.03996221689335,1.3327925122563533,1.5068755526926219,1.4923002469336042,1.6923947330834719,1.612018947072187,1.706753860501974,1.7476592338728152,1.7480157279760378,1.6554633121020372,1.450748767737048,2.0639572842995078,2.0038873585756933,1.5182670118096193,1.7707329415496942,1.391314518116354,1.6107314989444372,1.28426637338021,1.7822083596027842,1.3995172811739793,1.394785780780546,1.7224410262150025,1.8364648866261388,1.6241476987124546,1.6050285200427286,1.7515684100786582,1.580885503474554,1.5419296274120233,1.7522044336958595,1.9636470480636223,2.056395803192019,1.2750296218143822,1.6423896222222796,1.2351145096399396,1.6980444052557488,1.6628705198435294,2.1132169089663346,1.695527262535641,1.682481280188913,1.352759613426811,1.4807415754226887,1.5886332985285923,1.512013916987028,1.5965348117905833,1.6762607825018552,1.4050901553325597,2.167498199572929,1.638920975776622,1.9943413672038768,2.1834375482477766,1.7217996162373483,1.6964182308283298,1.500951217265099,1.78936716003522,1.9497578940507363,2.088837748945904,1.3947334159166564,1.7923994450206968,1.7442754591385161,2.1222934541844105,1.6000171254403575,1.8533409091704072,1.6791918097462626,1.4870359664298036,1.4340055637141238,1.626478923195887,1.7127277006756974,1.955796630430489,1.3382005147123344,1.4410317569024003,1.7180080036781866,1.9785189101364125,2.0360287335578473,1.9506699757112698,2.0635201670097105,1.9038149379471716,2.021753019516339,1.6039750665232528,1.8804505029837815,1.957944292393724,1.5387013603661015,1.4366251056274673,1.5454222625502425,1.6429868149624547,1.4373401779430481,1.5767286225191401,1.6481763639571727,1.584945774842359,1.4081072905089225,1.5655402868359736,1.8639233820274153,1.9719827565678125,1.687319951605762,1.8022701700742876,1.8749028809608828,1.5658406974497252,1.5863507708207405,1.976027625640821,1.6805399503958236,2.015839902101689,1.7435092595508974,1.734828110808798,2.161601422559891,1.8037077252237217,1.635419984346818,1.525785450863775,1.5628022323912383,1.9114354228423782,2.4944618101861042,1.9350543155884945,1.6553670416646806,1.8346611613656258,1.7700468161502712,1.6276737141219195,1.757406368063979,1.6363780615022596,1.58794015936875,1.5596143303824963,1.8428366026000549,1.6996358419334203],\"y\":[-0.003313082758649069,-0.3536453057574368,-0.607962723366998,-1.1769098306384598,-0.20526499361638678,-0.6150981887827022,-0.5626079188311135,-0.5856269439573705,-0.700573025058976,-0.8244995883242991,-0.5273543130573138,-0.7008789851057325,-0.5730822070621266,-1.2924885141457767,-0.4767881997153016,-0.6175576285546023,-0.785670909643805,-0.495288763793829,-0.788952465823936,-0.7082511215582579,-0.5142956629148102,-1.0535378625799745,-0.7221262267093959,-0.8028392950571737,-0.6868178399678074,-0.5563003094075352,-0.08575345909350185,-0.2729721431025671,-0.908686168291645,-0.7020795699716383,-0.08283425423278153,-0.6368130654405326,-0.5135293130275542,-0.007667284858551823,-1.4346967547929943,-0.6514948672642067,-0.6407996474827102,-0.4701253014568576,-0.7709105604249444,-0.6847227847336537,-0.7685558684324538,-0.6481045551826271,-0.009053109764132192,-0.6584608172800344,-0.21914542838273085,-0.5045088876953461,-0.2983964291646413,-0.6182202510736559,-0.774701277654543,-0.6280613721014937,-0.2971985303612855,-0.21561739097633323,-1.0775372530830312,-0.5064620914034058,-0.6628354898801321,-0.6226749099215225,-0.7016618602841961,-0.74187261513032,-0.6102346435622582,-0.7174927284525082,-0.7686318958422096,-0.7226977195345712,-0.39413510169199095,-0.023146793238946608,-1.088035516163373,-0.5312364838399591,-0.9316401564705545,-0.38092800318820114,-0.45586323848765076,-0.36512072978990784,-0.388803913988492,-0.6673984511879738,-1.2822579435109636,-0.758955012428919,-0.9204056385765628,-0.5766806032153116,-0.7427615605576183,-0.5589128307620478,-0.4854811137521762,-0.002881606108603642,-0.717325293868116,-0.5237480453048119,-0.3869420364677316,-0.7035835796064858,-0.7655318817407549,-0.6054336756244183,-0.43814927653231084,-0.6250855167928184,-0.46364365648383865,-1.0918852259002632,-0.004089089495897799,-0.310492858948436,-0.5339753429481657,-0.7929944208138338,-0.5594465322566328,-0.7242482417972749,-0.778282375966575,-0.5884489140965712,-0.6602918329512965,-0.7464460822303229,-0.5262315091430594,-0.6789346658676282,-0.5109430517231168,-0.5869902021882331,-0.06966111726966107,-0.274998285279845,-0.38776338480313033,-0.5547354773736283,-0.3215690687823,-0.3485400246832371,-0.481598178957409,-0.07718866227839116,-0.47170584247845615,-0.2883299490433035,-0.9924552368815922,-0.8352163147062847,-0.8514077036395686,-0.7930137427045665,-0.7027713032591973,-0.5544315709047152,-1.0714716558191546,-1.1727927491869672,-0.9093626903921264,-0.5003826779155909,-0.37795918632048375,-0.8587530802350571,-0.5228586185949105,-0.3019970600048361,-0.7105813959220312,-0.8218488668801898,-0.44366251333707335,-0.5334517851430329,-0.3229521166350696,-0.6569605787901363,-0.5077012869227158,-0.0699030635803521,-0.960913057370547,-0.5002433893761586,-0.6745218652935049,-1.0400592420048786,-0.03912003387124667,-0.013564327520189469,-0.6243124612895866,-0.8767653299739231,-0.7089592612694738,-0.6680300422029161,-0.6817363579911491,-0.42926482614472905,-0.7578789733143994,-0.6336845844401333,-0.8900335068668952,-0.6486105153015661,-0.6769665252812529]}},\"id\":\"7e965cf0-8d69-402c-a36b-726184cdc318\",\"type\":\"ColumnDataSource\"},{\"attributes\":{},\"id\":\"8157e683-176d-4c3e-8260-8b57473c2ca6\",\"type\":\"ToolEvents\"},{\"attributes\":{},\"id\":\"9d145dd3-96f2-4b38-8387-aae9791a36fb\",\"type\":\"BasicTicker\"},{\"attributes\":{\"data_source\":{\"id\":\"801caf07-355f-4590-962c-f2af1dca6bd1\",\"type\":\"ColumnDataSource\"},\"glyph\":{\"id\":\"4cc4a461-46b0-4c5e-8e2a-9e962e39f72f\",\"type\":\"Circle\"},\"hover_glyph\":null,\"nonselection_glyph\":{\"id\":\"d41342bc-9a7f-49eb-8776-d6bd02292504\",\"type\":\"Circle\"},\"selection_glyph\":null},\"id\":\"23d92166-6c6e-424d-af12-8f7b1fb7b56e\",\"type\":\"GlyphRenderer\"},{\"attributes\":{\"formatter\":{\"id\":\"2813f03e-7e27-4e52-a991-450779d6fc76\",\"type\":\"BasicTickFormatter\"},\"plot\":{\"id\":\"b11e231e-7304-491b-a80d-aee8dd5d2609\",\"subtype\":\"Figure\",\"type\":\"Plot\"},\"ticker\":{\"id\":\"46b20d9a-3a33-49d8-bb8b-03f22667648d\",\"type\":\"BasicTicker\"}},\"id\":\"ed7996e0-a75d-461e-972d-78dc529b1685\",\"type\":\"LinearAxis\"},{\"attributes\":{\"plot\":{\"id\":\"082ef48b-89ff-4007-be12-35e0a2a9ebf5\",\"subtype\":\"Figure\",\"type\":\"Plot\"}},\"id\":\"7ac8e320-36c3-43e2-b635-bd00cef471f7\",\"type\":\"PreviewSaveTool\"},{\"attributes\":{\"formatter\":{\"id\":\"90f2434e-ad37-4e8a-8de7-d7de137d1aac\",\"type\":\"BasicTickFormatter\"},\"plot\":{\"id\":\"b11e231e-7304-491b-a80d-aee8dd5d2609\",\"subtype\":\"Figure\",\"type\":\"Plot\"},\"ticker\":{\"id\":\"eea1a169-0fb9-4a84-b27e-db1e0a1ac703\",\"type\":\"BasicTicker\"}},\"id\":\"3c675b62-73e3-48fb-bd51-b60a4faa69aa\",\"type\":\"LinearAxis\"},{\"attributes\":{},\"id\":\"41d63b48-d270-4023-9fa4-487bac3036b9\",\"type\":\"BasicTicker\"},{\"attributes\":{\"overlay\":{\"id\":\"81e4e95f-e476-43c7-8471-1ff08b6bb19b\",\"type\":\"BoxAnnotation\"},\"plot\":{\"id\":\"3025ef3f-6e2b-45f4-a6ea-f072cee80b8d\",\"subtype\":\"Figure\",\"type\":\"Plot\"}},\"id\":\"493a531b-169b-494f-a15e-3d082db2af64\",\"type\":\"BoxZoomTool\"},{\"attributes\":{\"plot\":{\"id\":\"75cbb985-1ea5-4dba-aff2-ad02068eaefc\",\"subtype\":\"Figure\",\"type\":\"Plot\"}},\"id\":\"1bbc866d-2cab-4485-a964-6da1d2a4665c\",\"type\":\"HelpTool\"},{\"attributes\":{},\"id\":\"09420a22-20a9-4c7c-b5c8-f94f35e42cd8\",\"type\":\"BasicTickFormatter\"},{\"attributes\":{},\"id\":\"dbec2c43-08ee-4a89-8b00-b73a21950c6a\",\"type\":\"BasicTicker\"},{\"attributes\":{},\"id\":\"2beea500-c09e-4e2b-84ad-97576a66e7ba\",\"type\":\"BasicTickFormatter\"},{\"attributes\":{},\"id\":\"a58330d8-0b88-40c5-b8bf-4889c664abce\",\"type\":\"BasicTicker\"},{\"attributes\":{\"overlay\":{\"id\":\"2880c48e-06fb-4ada-8104-0eca8a078887\",\"type\":\"BoxAnnotation\"},\"plot\":{\"id\":\"d954f117-62e5-4d8d-8ea6-6a8a7ea92c59\",\"subtype\":\"Figure\",\"type\":\"Plot\"}},\"id\":\"2d149e65-998f-4864-b408-0b6500e23c6b\",\"type\":\"BoxZoomTool\"},{\"attributes\":{\"formatter\":{\"id\":\"09420a22-20a9-4c7c-b5c8-f94f35e42cd8\",\"type\":\"BasicTickFormatter\"},\"plot\":{\"id\":\"be103f5d-fe7f-4b28-914f-0c9030ea5f47\",\"subtype\":\"Figure\",\"type\":\"Plot\"},\"ticker\":{\"id\":\"41d63b48-d270-4023-9fa4-487bac3036b9\",\"type\":\"BasicTicker\"}},\"id\":\"0dd405f5-4b9f-4441-a5e7-0484b358980c\",\"type\":\"LinearAxis\"},{\"attributes\":{},\"id\":\"37eba5e2-6852-4f54-a317-a164e1039e3b\",\"type\":\"BasicTicker\"},{\"attributes\":{},\"id\":\"9588a966-1cff-4dc9-9983-a7ebe0eea583\",\"type\":\"BasicTickFormatter\"},{\"attributes\":{\"plot\":{\"id\":\"75cbb985-1ea5-4dba-aff2-ad02068eaefc\",\"subtype\":\"Figure\",\"type\":\"Plot\"}},\"id\":\"18bc4d64-0203-42da-9431-0b847d5999c2\",\"type\":\"WheelZoomTool\"},{\"attributes\":{},\"id\":\"bf2a9a4e-58d3-4498-81ec-d136baf9e2c3\",\"type\":\"BasicTicker\"},{\"attributes\":{\"below\":[{\"id\":\"799a20b2-fb09-4da3-a5cc-4499a0ebb033\",\"type\":\"LinearAxis\"}],\"left\":[{\"id\":\"d4e09be4-f1e5-4e82-86e9-8a8b7c8dd178\",\"type\":\"LinearAxis\"}],\"renderers\":[{\"id\":\"799a20b2-fb09-4da3-a5cc-4499a0ebb033\",\"type\":\"LinearAxis\"},{\"id\":\"0ed36d90-cdb7-4654-9a6a-fe8e13df431a\",\"type\":\"Grid\"},{\"id\":\"d4e09be4-f1e5-4e82-86e9-8a8b7c8dd178\",\"type\":\"LinearAxis\"},{\"id\":\"3e11ffa3-6843-4d1c-a107-da94866ca491\",\"type\":\"Grid\"},{\"id\":\"24da18e2-aacc-4fda-a322-988cdf59080f\",\"type\":\"BoxAnnotation\"},{\"id\":\"a27a999c-354d-49e7-9a19-5cca38b9a237\",\"type\":\"GlyphRenderer\"}],\"title\":\"hbond score vs o-h dist\",\"tool_events\":{\"id\":\"8157e683-176d-4c3e-8260-8b57473c2ca6\",\"type\":\"ToolEvents\"},\"toolbar_location\":null,\"tools\":[{\"id\":\"f27faeb8-a697-4ba5-a2a2-78287743a8e2\",\"type\":\"PanTool\"},{\"id\":\"18bc4d64-0203-42da-9431-0b847d5999c2\",\"type\":\"WheelZoomTool\"},{\"id\":\"986dd84b-eb4c-4052-8d02-d90644157c87\",\"type\":\"BoxZoomTool\"},{\"id\":\"c711c7d5-1572-4296-9fa5-463ac293f23b\",\"type\":\"PreviewSaveTool\"},{\"id\":\"a2f504e6-e18a-4b14-aa8b-e376c45e4464\",\"type\":\"ResizeTool\"},{\"id\":\"c891e88f-b1f8-4d64-ba18-d9fe20d7fe0a\",\"type\":\"ResetTool\"},{\"id\":\"1bbc866d-2cab-4485-a964-6da1d2a4665c\",\"type\":\"HelpTool\"}],\"x_range\":{\"id\":\"f45da118-cbe2-4c30-a8f9-1d9a320ac952\",\"type\":\"DataRange1d\"},\"y_range\":{\"id\":\"8adc3e03-3176-4ff0-83de-f5de1b70910d\",\"type\":\"DataRange1d\"}},\"id\":\"75cbb985-1ea5-4dba-aff2-ad02068eaefc\",\"subtype\":\"Figure\",\"type\":\"Plot\"},{\"attributes\":{},\"id\":\"164efda8-3c08-4b13-9c5e-b9496816f131\",\"type\":\"BasicTickFormatter\"},{\"attributes\":{\"fill_alpha\":{\"value\":0.1},\"fill_color\":{\"value\":\"#1f77b4\"},\"line_alpha\":{\"value\":0.1},\"line_color\":{\"value\":\"#1f77b4\"},\"x\":{\"field\":\"x\"},\"y\":{\"field\":\"y\"}},\"id\":\"04550029-cc8f-4bc4-b582-215120d19094\",\"type\":\"Circle\"},{\"attributes\":{},\"id\":\"30cede53-24be-4724-b0fc-aee99c3e4f8e\",\"type\":\"ToolEvents\"},{\"attributes\":{\"below\":[{\"id\":\"3c675b62-73e3-48fb-bd51-b60a4faa69aa\",\"type\":\"LinearAxis\"}],\"left\":[{\"id\":\"ed7996e0-a75d-461e-972d-78dc529b1685\",\"type\":\"LinearAxis\"}],\"renderers\":[{\"id\":\"3c675b62-73e3-48fb-bd51-b60a4faa69aa\",\"type\":\"LinearAxis\"},{\"id\":\"af48e648-01a3-48a0-a02e-89dcdfff60d0\",\"type\":\"Grid\"},{\"id\":\"ed7996e0-a75d-461e-972d-78dc529b1685\",\"type\":\"LinearAxis\"},{\"id\":\"9907a5cd-a30f-4763-8194-1e6ba9f0b95a\",\"type\":\"Grid\"},{\"id\":\"2fb77379-a427-413c-a4ce-44970b191c8b\",\"type\":\"BoxAnnotation\"},{\"id\":\"7d3c79f6-4ea9-41db-a49e-82519bc98e7c\",\"type\":\"GlyphRenderer\"}],\"title\":\"Bokeh Markers\",\"tool_events\":{\"id\":\"30cede53-24be-4724-b0fc-aee99c3e4f8e\",\"type\":\"ToolEvents\"},\"toolbar_location\":null,\"tools\":[{\"id\":\"fd7454f7-6eff-4732-a551-088468616c2c\",\"type\":\"PanTool\"},{\"id\":\"421b6bf5-a00f-412b-b4fd-23d30c4e5368\",\"type\":\"WheelZoomTool\"},{\"id\":\"643a5fb1-99e0-4295-a258-2f14f5195d3f\",\"type\":\"BoxZoomTool\"},{\"id\":\"395d5113-843f-4f5f-a7bd-28fe5ef44f2b\",\"type\":\"PreviewSaveTool\"},{\"id\":\"dc6a6d3f-40bf-44ec-b1d6-0b70af1b5be1\",\"type\":\"ResizeTool\"},{\"id\":\"83b6bb6b-79c9-4a2e-83e9-190787b960fa\",\"type\":\"ResetTool\"},{\"id\":\"90c00fb6-e108-491f-9af7-5d45b250388c\",\"type\":\"HelpTool\"}],\"x_range\":{\"id\":\"0f012abf-e502-4012-b0d6-44590da291b1\",\"type\":\"DataRange1d\"},\"y_range\":{\"id\":\"766f49c8-5021-4622-b103-432f63863fbe\",\"type\":\"DataRange1d\"}},\"id\":\"b11e231e-7304-491b-a80d-aee8dd5d2609\",\"subtype\":\"Figure\",\"type\":\"Plot\"},{\"attributes\":{\"fill_color\":{\"value\":\"#1f77b4\"},\"line_color\":{\"value\":\"#1f77b4\"},\"x\":{\"field\":\"x\"},\"y\":{\"field\":\"y\"}},\"id\":\"52809e5f-14da-4a8e-a92f-24f3cdd9dc47\",\"type\":\"Circle\"},{\"attributes\":{\"plot\":{\"id\":\"d954f117-62e5-4d8d-8ea6-6a8a7ea92c59\",\"subtype\":\"Figure\",\"type\":\"Plot\"}},\"id\":\"6865de2c-8a97-46ff-97bf-b413d24c46fb\",\"type\":\"PanTool\"},{\"attributes\":{\"plot\":{\"id\":\"be103f5d-fe7f-4b28-914f-0c9030ea5f47\",\"subtype\":\"Figure\",\"type\":\"Plot\"}},\"id\":\"02d354f4-3ac7-4330-a497-04197bd7e5f5\",\"type\":\"ResetTool\"},{\"attributes\":{\"callback\":null},\"id\":\"97f87a02-88a5-4916-931a-01aa4180d5dc\",\"type\":\"DataRange1d\"},{\"attributes\":{\"plot\":{\"id\":\"b11e231e-7304-491b-a80d-aee8dd5d2609\",\"subtype\":\"Figure\",\"type\":\"Plot\"}},\"id\":\"dc6a6d3f-40bf-44ec-b1d6-0b70af1b5be1\",\"type\":\"ResizeTool\"},{\"attributes\":{\"plot\":{\"id\":\"d954f117-62e5-4d8d-8ea6-6a8a7ea92c59\",\"subtype\":\"Figure\",\"type\":\"Plot\"}},\"id\":\"7d24adf1-67f5-4284-b6b3-182a4433449f\",\"type\":\"PreviewSaveTool\"},{\"attributes\":{\"plot\":{\"id\":\"082ef48b-89ff-4007-be12-35e0a2a9ebf5\",\"subtype\":\"Figure\",\"type\":\"Plot\"}},\"id\":\"d8e69b9c-d7cb-46c6-8652-d9ca4efa64bc\",\"type\":\"WheelZoomTool\"},{\"attributes\":{\"data_source\":{\"id\":\"66ce5b20-552f-4efb-a3f5-f5a979f87d41\",\"type\":\"ColumnDataSource\"},\"glyph\":{\"id\":\"8137b0ad-bd64-4064-9e93-6de639b03bbe\",\"type\":\"Circle\"},\"hover_glyph\":null,\"nonselection_glyph\":{\"id\":\"fab0911c-6ede-4a79-aea0-ef90c0db061d\",\"type\":\"Circle\"},\"selection_glyph\":null},\"id\":\"51c21a55-06c5-4944-ae6e-b603849a9702\",\"type\":\"GlyphRenderer\"},{\"attributes\":{\"callback\":null},\"id\":\"b27558e9-4944-4311-8c9a-55c3bbd6290e\",\"type\":\"DataRange1d\"},{\"attributes\":{\"plot\":{\"id\":\"3025ef3f-6e2b-45f4-a6ea-f072cee80b8d\",\"subtype\":\"Figure\",\"type\":\"Plot\"}},\"id\":\"f11ed325-076f-420a-8b1a-7bf935807f4b\",\"type\":\"ResizeTool\"},{\"attributes\":{\"plot\":{\"id\":\"75cbb985-1ea5-4dba-aff2-ad02068eaefc\",\"subtype\":\"Figure\",\"type\":\"Plot\"}},\"id\":\"c711c7d5-1572-4296-9fa5-463ac293f23b\",\"type\":\"PreviewSaveTool\"},{\"attributes\":{},\"id\":\"c887f5c1-b65d-4943-b9e6-eb9feed36c5c\",\"type\":\"ToolEvents\"},{\"attributes\":{\"plot\":{\"id\":\"d954f117-62e5-4d8d-8ea6-6a8a7ea92c59\",\"subtype\":\"Figure\",\"type\":\"Plot\"}},\"id\":\"79f58fcc-e822-4fba-a44b-66ceb3389985\",\"type\":\"ResetTool\"},{\"attributes\":{\"overlay\":{\"id\":\"e54d27e0-236f-480b-a802-4b6e57edd65e\",\"type\":\"BoxAnnotation\"},\"plot\":{\"id\":\"082ef48b-89ff-4007-be12-35e0a2a9ebf5\",\"subtype\":\"Figure\",\"type\":\"Plot\"}},\"id\":\"2e33c37a-4333-4423-8efc-ba5581e8bcb0\",\"type\":\"BoxZoomTool\"},{\"attributes\":{\"bottom_units\":\"screen\",\"fill_alpha\":{\"value\":0.5},\"fill_color\":{\"value\":\"lightgrey\"},\"left_units\":\"screen\",\"level\":\"overlay\",\"line_alpha\":{\"value\":1.0},\"line_color\":{\"value\":\"black\"},\"line_dash\":[4,4],\"line_width\":{\"value\":2},\"plot\":null,\"render_mode\":\"css\",\"right_units\":\"screen\",\"top_units\":\"screen\"},\"id\":\"2880c48e-06fb-4ada-8104-0eca8a078887\",\"type\":\"BoxAnnotation\"},{\"attributes\":{\"callback\":null},\"id\":\"766f49c8-5021-4622-b103-432f63863fbe\",\"type\":\"DataRange1d\"},{\"attributes\":{\"plot\":{\"id\":\"3025ef3f-6e2b-45f4-a6ea-f072cee80b8d\",\"subtype\":\"Figure\",\"type\":\"Plot\"}},\"id\":\"4829c078-003f-465b-9fb0-4f0aa79e4837\",\"type\":\"HelpTool\"},{\"attributes\":{\"callback\":null},\"id\":\"ce1b7032-d726-4dd2-aa9c-74138f8dc0a7\",\"type\":\"DataRange1d\"},{\"attributes\":{},\"id\":\"2813f03e-7e27-4e52-a991-450779d6fc76\",\"type\":\"BasicTickFormatter\"},{\"attributes\":{\"plot\":{\"id\":\"082ef48b-89ff-4007-be12-35e0a2a9ebf5\",\"subtype\":\"Figure\",\"type\":\"Plot\"}},\"id\":\"378e06d5-148f-4feb-9176-22f64841e89f\",\"type\":\"PanTool\"},{\"attributes\":{\"bottom_units\":\"screen\",\"fill_alpha\":{\"value\":0.5},\"fill_color\":{\"value\":\"lightgrey\"},\"left_units\":\"screen\",\"level\":\"overlay\",\"line_alpha\":{\"value\":1.0},\"line_color\":{\"value\":\"black\"},\"line_dash\":[4,4],\"line_width\":{\"value\":2},\"plot\":null,\"render_mode\":\"css\",\"right_units\":\"screen\",\"top_units\":\"screen\"},\"id\":\"2fb77379-a427-413c-a4ce-44970b191c8b\",\"type\":\"BoxAnnotation\"},{\"attributes\":{\"formatter\":{\"id\":\"2beea500-c09e-4e2b-84ad-97576a66e7ba\",\"type\":\"BasicTickFormatter\"},\"plot\":{\"id\":\"3025ef3f-6e2b-45f4-a6ea-f072cee80b8d\",\"subtype\":\"Figure\",\"type\":\"Plot\"},\"ticker\":{\"id\":\"756a28cf-5af5-4417-a5f1-061c87b15554\",\"type\":\"BasicTicker\"}},\"id\":\"58aa4a67-bd4a-4b44-863f-b8ea4e0bd43e\",\"type\":\"LinearAxis\"},{\"attributes\":{\"plot\":{\"id\":\"be103f5d-fe7f-4b28-914f-0c9030ea5f47\",\"subtype\":\"Figure\",\"type\":\"Plot\"}},\"id\":\"0788fdf9-b8dc-44f2-9a94-52c54532c5c8\",\"type\":\"HelpTool\"},{\"attributes\":{\"dimension\":1,\"plot\":{\"id\":\"d954f117-62e5-4d8d-8ea6-6a8a7ea92c59\",\"subtype\":\"Figure\",\"type\":\"Plot\"},\"ticker\":{\"id\":\"15797b31-36ed-4f0c-ae63-c83558360843\",\"type\":\"BasicTicker\"}},\"id\":\"8bea1c33-4fcd-4ded-95ed-101757cc8025\",\"type\":\"Grid\"},{\"attributes\":{},\"id\":\"e0db152d-b004-4ce1-9f71-a7f8645d0a2d\",\"type\":\"BasicTicker\"},{\"attributes\":{\"plot\":{\"id\":\"be103f5d-fe7f-4b28-914f-0c9030ea5f47\",\"subtype\":\"Figure\",\"type\":\"Plot\"}},\"id\":\"271ce9c6-1351-4de0-bfa3-3b4954df218c\",\"type\":\"ResizeTool\"},{\"attributes\":{\"callback\":null,\"column_names\":[\"y\",\"x\"],\"data\":{\"x\":[1,2,3],\"y\":[2,3,4]}},\"id\":\"46efbd7a-8fe5-4f6f-b46c-7741d238a841\",\"type\":\"ColumnDataSource\"},{\"attributes\":{\"plot\":{\"id\":\"be103f5d-fe7f-4b28-914f-0c9030ea5f47\",\"subtype\":\"Figure\",\"type\":\"Plot\"}},\"id\":\"f32fdece-be95-4a9a-a079-bf5aeaa270ad\",\"type\":\"PreviewSaveTool\"},{\"attributes\":{},\"id\":\"756a28cf-5af5-4417-a5f1-061c87b15554\",\"type\":\"BasicTicker\"},{\"attributes\":{\"plot\":{\"id\":\"3025ef3f-6e2b-45f4-a6ea-f072cee80b8d\",\"subtype\":\"Figure\",\"type\":\"Plot\"}},\"id\":\"7e6fef61-2e3a-4589-b4ac-be9d3b61809b\",\"type\":\"ResetTool\"},{\"attributes\":{\"below\":[{\"id\":\"fca44f7c-96fb-4daa-a1e2-c567b086e0f7\",\"type\":\"LinearAxis\"}],\"left\":[{\"id\":\"e9859738-5597-4308-beeb-79bc380271fa\",\"type\":\"LinearAxis\"}],\"renderers\":[{\"id\":\"fca44f7c-96fb-4daa-a1e2-c567b086e0f7\",\"type\":\"LinearAxis\"},{\"id\":\"71a99368-7575-4c8b-ada1-bebe155696a4\",\"type\":\"Grid\"},{\"id\":\"e9859738-5597-4308-beeb-79bc380271fa\",\"type\":\"LinearAxis\"},{\"id\":\"f96525af-9ffe-401c-9248-c9c9bf8d4b16\",\"type\":\"Grid\"},{\"id\":\"e54d27e0-236f-480b-a802-4b6e57edd65e\",\"type\":\"BoxAnnotation\"},{\"id\":\"51c21a55-06c5-4944-ae6e-b603849a9702\",\"type\":\"GlyphRenderer\"}],\"title\":\"Bokeh Markers\",\"tool_events\":{\"id\":\"21b21517-fbaa-44d0-a60e-5ec76fc13a3d\",\"type\":\"ToolEvents\"},\"toolbar_location\":null,\"tools\":[{\"id\":\"378e06d5-148f-4feb-9176-22f64841e89f\",\"type\":\"PanTool\"},{\"id\":\"d8e69b9c-d7cb-46c6-8652-d9ca4efa64bc\",\"type\":\"WheelZoomTool\"},{\"id\":\"2e33c37a-4333-4423-8efc-ba5581e8bcb0\",\"type\":\"BoxZoomTool\"},{\"id\":\"7ac8e320-36c3-43e2-b635-bd00cef471f7\",\"type\":\"PreviewSaveTool\"},{\"id\":\"96c8cf97-1fe1-4303-82c4-cf7e35347064\",\"type\":\"ResizeTool\"},{\"id\":\"3e8cef99-182c-411a-927d-6ea02716ec10\",\"type\":\"ResetTool\"},{\"id\":\"c9f28905-33f7-4501-9f71-2cb80f7d2bba\",\"type\":\"HelpTool\"}],\"x_range\":{\"id\":\"23835d85-3e94-476f-bf95-d20cb1132be9\",\"type\":\"DataRange1d\"},\"y_range\":{\"id\":\"63e30282-2ffe-4a50-9a4c-2c4e1c8fc682\",\"type\":\"DataRange1d\"}},\"id\":\"082ef48b-89ff-4007-be12-35e0a2a9ebf5\",\"subtype\":\"Figure\",\"type\":\"Plot\"},{\"attributes\":{},\"id\":\"71bd1374-ee53-4a2b-8a8a-853b92b2f984\",\"type\":\"BasicTickFormatter\"},{\"attributes\":{\"callback\":null},\"id\":\"8adc3e03-3176-4ff0-83de-f5de1b70910d\",\"type\":\"DataRange1d\"},{\"attributes\":{\"overlay\":{\"id\":\"2fb77379-a427-413c-a4ce-44970b191c8b\",\"type\":\"BoxAnnotation\"},\"plot\":{\"id\":\"b11e231e-7304-491b-a80d-aee8dd5d2609\",\"subtype\":\"Figure\",\"type\":\"Plot\"}},\"id\":\"643a5fb1-99e0-4295-a258-2f14f5195d3f\",\"type\":\"BoxZoomTool\"},{\"attributes\":{},\"id\":\"cae7d503-735a-47b9-a3f3-066261bf1108\",\"type\":\"BasicTickFormatter\"},{\"attributes\":{},\"id\":\"62f4e67a-21a0-43c1-89ec-a3147de362bf\",\"type\":\"BasicTickFormatter\"},{\"attributes\":{\"plot\":{\"id\":\"082ef48b-89ff-4007-be12-35e0a2a9ebf5\",\"subtype\":\"Figure\",\"type\":\"Plot\"}},\"id\":\"96c8cf97-1fe1-4303-82c4-cf7e35347064\",\"type\":\"ResizeTool\"},{\"attributes\":{\"plot\":{\"id\":\"3025ef3f-6e2b-45f4-a6ea-f072cee80b8d\",\"subtype\":\"Figure\",\"type\":\"Plot\"},\"ticker\":{\"id\":\"756a28cf-5af5-4417-a5f1-061c87b15554\",\"type\":\"BasicTicker\"}},\"id\":\"df8396d0-240a-4495-a435-589dcd41d0a2\",\"type\":\"Grid\"},{\"attributes\":{\"callback\":null},\"id\":\"f45da118-cbe2-4c30-a8f9-1d9a320ac952\",\"type\":\"DataRange1d\"},{\"attributes\":{\"plot\":{\"id\":\"75cbb985-1ea5-4dba-aff2-ad02068eaefc\",\"subtype\":\"Figure\",\"type\":\"Plot\"}},\"id\":\"f27faeb8-a697-4ba5-a2a2-78287743a8e2\",\"type\":\"PanTool\"},{\"attributes\":{\"below\":[{\"id\":\"ec9811ce-6d9f-4dba-a034-ee0789a6d536\",\"type\":\"LinearAxis\"}],\"left\":[{\"id\":\"4aecee19-8fc6-4a87-9d1c-bb56b0e2858c\",\"type\":\"LinearAxis\"}],\"renderers\":[{\"id\":\"ec9811ce-6d9f-4dba-a034-ee0789a6d536\",\"type\":\"LinearAxis\"},{\"id\":\"d93d9d0d-5bb2-44c8-87b7-266bf8b5cbc8\",\"type\":\"Grid\"},{\"id\":\"4aecee19-8fc6-4a87-9d1c-bb56b0e2858c\",\"type\":\"LinearAxis\"},{\"id\":\"8bea1c33-4fcd-4ded-95ed-101757cc8025\",\"type\":\"Grid\"},{\"id\":\"2880c48e-06fb-4ada-8104-0eca8a078887\",\"type\":\"BoxAnnotation\"},{\"id\":\"23d92166-6c6e-424d-af12-8f7b1fb7b56e\",\"type\":\"GlyphRenderer\"}],\"title\":\"Bokeh Markers\",\"tool_events\":{\"id\":\"637f64a5-2eae-4159-b231-8effe93eeba1\",\"type\":\"ToolEvents\"},\"toolbar_location\":null,\"tools\":[{\"id\":\"6865de2c-8a97-46ff-97bf-b413d24c46fb\",\"type\":\"PanTool\"},{\"id\":\"1096b045-3472-4174-b902-ca1ea4265531\",\"type\":\"WheelZoomTool\"},{\"id\":\"2d149e65-998f-4864-b408-0b6500e23c6b\",\"type\":\"BoxZoomTool\"},{\"id\":\"7d24adf1-67f5-4284-b6b3-182a4433449f\",\"type\":\"PreviewSaveTool\"},{\"id\":\"404cc4d2-8f76-4070-b9f3-856b852148f8\",\"type\":\"ResizeTool\"},{\"id\":\"79f58fcc-e822-4fba-a44b-66ceb3389985\",\"type\":\"ResetTool\"},{\"id\":\"b973fac8-7859-4ca7-851c-31b85f27e92d\",\"type\":\"HelpTool\"}],\"x_range\":{\"id\":\"649bdc5e-2bf6-4b38-8377-d2df199c732a\",\"type\":\"DataRange1d\"},\"y_range\":{\"id\":\"b27558e9-4944-4311-8c9a-55c3bbd6290e\",\"type\":\"DataRange1d\"}},\"id\":\"d954f117-62e5-4d8d-8ea6-6a8a7ea92c59\",\"subtype\":\"Figure\",\"type\":\"Plot\"},{\"attributes\":{\"plot\":{\"id\":\"d954f117-62e5-4d8d-8ea6-6a8a7ea92c59\",\"subtype\":\"Figure\",\"type\":\"Plot\"}},\"id\":\"404cc4d2-8f76-4070-b9f3-856b852148f8\",\"type\":\"ResizeTool\"},{\"attributes\":{\"formatter\":{\"id\":\"62f4e67a-21a0-43c1-89ec-a3147de362bf\",\"type\":\"BasicTickFormatter\"},\"plot\":{\"id\":\"082ef48b-89ff-4007-be12-35e0a2a9ebf5\",\"subtype\":\"Figure\",\"type\":\"Plot\"},\"ticker\":{\"id\":\"a58330d8-0b88-40c5-b8bf-4889c664abce\",\"type\":\"BasicTicker\"}},\"id\":\"e9859738-5597-4308-beeb-79bc380271fa\",\"type\":\"LinearAxis\"},{\"attributes\":{\"callback\":null},\"id\":\"d5e8f2d0-dd0d-41de-a3b6-8d5d0327b40d\",\"type\":\"DataRange1d\"},{\"attributes\":{\"overlay\":{\"id\":\"a9fa0f41-34aa-4501-a3ab-d3bb2857add2\",\"type\":\"BoxAnnotation\"},\"plot\":{\"id\":\"be103f5d-fe7f-4b28-914f-0c9030ea5f47\",\"subtype\":\"Figure\",\"type\":\"Plot\"}},\"id\":\"3a45366b-457e-4309-aedd-ad8d676f5d70\",\"type\":\"BoxZoomTool\"},{\"attributes\":{},\"id\":\"8327f51f-1993-44d3-9034-2a5518eb9135\",\"type\":\"BasicTicker\"},{\"attributes\":{\"plot\":{\"id\":\"3025ef3f-6e2b-45f4-a6ea-f072cee80b8d\",\"subtype\":\"Figure\",\"type\":\"Plot\"}},\"id\":\"ee6d4c2a-429a-4e95-80f2-7745086bbce5\",\"type\":\"PreviewSaveTool\"},{\"attributes\":{\"callback\":null,\"column_names\":[\"y\",\"x\"],\"data\":{\"x\":[1,2,3],\"y\":[2,3,4]}},\"id\":\"66ce5b20-552f-4efb-a3f5-f5a979f87d41\",\"type\":\"ColumnDataSource\"},{\"attributes\":{\"fill_color\":{\"value\":\"#1f77b4\"},\"line_color\":{\"value\":\"#1f77b4\"},\"x\":{\"field\":\"x\"},\"y\":{\"field\":\"y\"}},\"id\":\"8137b0ad-bd64-4064-9e93-6de639b03bbe\",\"type\":\"Circle\"},{\"attributes\":{\"bottom_units\":\"screen\",\"fill_alpha\":{\"value\":0.5},\"fill_color\":{\"value\":\"lightgrey\"},\"left_units\":\"screen\",\"level\":\"overlay\",\"line_alpha\":{\"value\":1.0},\"line_color\":{\"value\":\"black\"},\"line_dash\":[4,4],\"line_width\":{\"value\":2},\"plot\":null,\"render_mode\":\"css\",\"right_units\":\"screen\",\"top_units\":\"screen\"},\"id\":\"e54d27e0-236f-480b-a802-4b6e57edd65e\",\"type\":\"BoxAnnotation\"},{\"attributes\":{\"formatter\":{\"id\":\"71bd1374-ee53-4a2b-8a8a-853b92b2f984\",\"type\":\"BasicTickFormatter\"},\"plot\":{\"id\":\"75cbb985-1ea5-4dba-aff2-ad02068eaefc\",\"subtype\":\"Figure\",\"type\":\"Plot\"},\"ticker\":{\"id\":\"37eba5e2-6852-4f54-a317-a164e1039e3b\",\"type\":\"BasicTicker\"}},\"id\":\"799a20b2-fb09-4da3-a5cc-4499a0ebb033\",\"type\":\"LinearAxis\"},{\"attributes\":{\"plot\":{\"id\":\"b11e231e-7304-491b-a80d-aee8dd5d2609\",\"subtype\":\"Figure\",\"type\":\"Plot\"},\"ticker\":{\"id\":\"eea1a169-0fb9-4a84-b27e-db1e0a1ac703\",\"type\":\"BasicTicker\"}},\"id\":\"af48e648-01a3-48a0-a02e-89dcdfff60d0\",\"type\":\"Grid\"},{\"attributes\":{\"plot\":{\"id\":\"d954f117-62e5-4d8d-8ea6-6a8a7ea92c59\",\"subtype\":\"Figure\",\"type\":\"Plot\"}},\"id\":\"1096b045-3472-4174-b902-ca1ea4265531\",\"type\":\"WheelZoomTool\"},{\"attributes\":{\"callback\":null},\"id\":\"23835d85-3e94-476f-bf95-d20cb1132be9\",\"type\":\"DataRange1d\"},{\"attributes\":{\"plot\":{\"id\":\"3025ef3f-6e2b-45f4-a6ea-f072cee80b8d\",\"subtype\":\"Figure\",\"type\":\"Plot\"}},\"id\":\"3a1e6e18-3f29-44cf-b5a7-64acd1123d46\",\"type\":\"WheelZoomTool\"},{\"attributes\":{\"fill_alpha\":{\"value\":0.1},\"fill_color\":{\"value\":\"#1f77b4\"},\"line_alpha\":{\"value\":0.1},\"line_color\":{\"value\":\"#1f77b4\"},\"x\":{\"field\":\"x\"},\"y\":{\"field\":\"y\"}},\"id\":\"fab0911c-6ede-4a79-aea0-ef90c0db061d\",\"type\":\"Circle\"},{\"attributes\":{\"plot\":{\"id\":\"b11e231e-7304-491b-a80d-aee8dd5d2609\",\"subtype\":\"Figure\",\"type\":\"Plot\"}},\"id\":\"395d5113-843f-4f5f-a7bd-28fe5ef44f2b\",\"type\":\"PreviewSaveTool\"},{\"attributes\":{\"callback\":null,\"column_names\":[\"y\",\"x\"],\"data\":{\"x\":[1,2,3],\"y\":[2,3,4]}},\"id\":\"801caf07-355f-4590-962c-f2af1dca6bd1\",\"type\":\"ColumnDataSource\"},{\"attributes\":{},\"id\":\"46b20d9a-3a33-49d8-bb8b-03f22667648d\",\"type\":\"BasicTicker\"},{\"attributes\":{\"formatter\":{\"id\":\"9588a966-1cff-4dc9-9983-a7ebe0eea583\",\"type\":\"BasicTickFormatter\"},\"plot\":{\"id\":\"3025ef3f-6e2b-45f4-a6ea-f072cee80b8d\",\"subtype\":\"Figure\",\"type\":\"Plot\"},\"ticker\":{\"id\":\"dbec2c43-08ee-4a89-8b00-b73a21950c6a\",\"type\":\"BasicTicker\"}},\"id\":\"342f171b-9a69-4d88-bcfe-cc101d54b5c2\",\"type\":\"LinearAxis\"},{\"attributes\":{\"plot\":{\"id\":\"be103f5d-fe7f-4b28-914f-0c9030ea5f47\",\"subtype\":\"Figure\",\"type\":\"Plot\"}},\"id\":\"23292474-7f01-4ec8-ac91-cf28b49d4775\",\"type\":\"WheelZoomTool\"},{\"attributes\":{\"plot\":{\"id\":\"082ef48b-89ff-4007-be12-35e0a2a9ebf5\",\"subtype\":\"Figure\",\"type\":\"Plot\"}},\"id\":\"c9f28905-33f7-4501-9f71-2cb80f7d2bba\",\"type\":\"HelpTool\"},{\"attributes\":{\"dimension\":1,\"plot\":{\"id\":\"75cbb985-1ea5-4dba-aff2-ad02068eaefc\",\"subtype\":\"Figure\",\"type\":\"Plot\"},\"ticker\":{\"id\":\"9d145dd3-96f2-4b38-8387-aae9791a36fb\",\"type\":\"BasicTicker\"}},\"id\":\"3e11ffa3-6843-4d1c-a107-da94866ca491\",\"type\":\"Grid\"},{\"attributes\":{\"plot\":{\"id\":\"082ef48b-89ff-4007-be12-35e0a2a9ebf5\",\"subtype\":\"Figure\",\"type\":\"Plot\"},\"ticker\":{\"id\":\"e0db152d-b004-4ce1-9f71-a7f8645d0a2d\",\"type\":\"BasicTicker\"}},\"id\":\"71a99368-7575-4c8b-ada1-bebe155696a4\",\"type\":\"Grid\"},{\"attributes\":{\"plot\":{\"id\":\"b11e231e-7304-491b-a80d-aee8dd5d2609\",\"subtype\":\"Figure\",\"type\":\"Plot\"}},\"id\":\"421b6bf5-a00f-412b-b4fd-23d30c4e5368\",\"type\":\"WheelZoomTool\"},{\"attributes\":{\"formatter\":{\"id\":\"164efda8-3c08-4b13-9c5e-b9496816f131\",\"type\":\"BasicTickFormatter\"},\"plot\":{\"id\":\"be103f5d-fe7f-4b28-914f-0c9030ea5f47\",\"subtype\":\"Figure\",\"type\":\"Plot\"},\"ticker\":{\"id\":\"bf2a9a4e-58d3-4498-81ec-d136baf9e2c3\",\"type\":\"BasicTicker\"}},\"id\":\"ad472559-fb30-4ec0-9466-e4774a5e054b\",\"type\":\"LinearAxis\"},{\"attributes\":{\"callback\":null},\"id\":\"0f012abf-e502-4012-b0d6-44590da291b1\",\"type\":\"DataRange1d\"},{\"attributes\":{\"dimension\":1,\"plot\":{\"id\":\"082ef48b-89ff-4007-be12-35e0a2a9ebf5\",\"subtype\":\"Figure\",\"type\":\"Plot\"},\"ticker\":{\"id\":\"a58330d8-0b88-40c5-b8bf-4889c664abce\",\"type\":\"BasicTicker\"}},\"id\":\"f96525af-9ffe-401c-9248-c9c9bf8d4b16\",\"type\":\"Grid\"},{\"attributes\":{\"plot\":{\"id\":\"d954f117-62e5-4d8d-8ea6-6a8a7ea92c59\",\"subtype\":\"Figure\",\"type\":\"Plot\"}},\"id\":\"b973fac8-7859-4ca7-851c-31b85f27e92d\",\"type\":\"HelpTool\"},{\"attributes\":{\"fill_color\":{\"value\":\"#1f77b4\"},\"line_color\":{\"value\":\"#1f77b4\"},\"x\":{\"field\":\"x\"},\"y\":{\"field\":\"y\"}},\"id\":\"4cc4a461-46b0-4c5e-8e2a-9e962e39f72f\",\"type\":\"Circle\"},{\"attributes\":{\"callback\":null},\"id\":\"63e30282-2ffe-4a50-9a4c-2c4e1c8fc682\",\"type\":\"DataRange1d\"},{\"attributes\":{\"data_source\":{\"id\":\"fcf3738c-b143-4496-b9d6-caef470cbea3\",\"type\":\"ColumnDataSource\"},\"glyph\":{\"id\":\"52809e5f-14da-4a8e-a92f-24f3cdd9dc47\",\"type\":\"Circle\"},\"hover_glyph\":null,\"nonselection_glyph\":{\"id\":\"0e9accd9-fa7b-4322-89ca-cb357b8d98da\",\"type\":\"Circle\"},\"selection_glyph\":null},\"id\":\"5246120d-daa1-4c36-a475-e085de03209b\",\"type\":\"GlyphRenderer\"},{\"attributes\":{\"formatter\":{\"id\":\"cae7d503-735a-47b9-a3f3-066261bf1108\",\"type\":\"BasicTickFormatter\"},\"plot\":{\"id\":\"d954f117-62e5-4d8d-8ea6-6a8a7ea92c59\",\"subtype\":\"Figure\",\"type\":\"Plot\"},\"ticker\":{\"id\":\"8327f51f-1993-44d3-9034-2a5518eb9135\",\"type\":\"BasicTicker\"}},\"id\":\"ec9811ce-6d9f-4dba-a034-ee0789a6d536\",\"type\":\"LinearAxis\"},{\"attributes\":{\"plot\":{\"id\":\"be103f5d-fe7f-4b28-914f-0c9030ea5f47\",\"subtype\":\"Figure\",\"type\":\"Plot\"}},\"id\":\"3c6ae89e-ed5d-4f5e-b98e-514dbf583a88\",\"type\":\"PanTool\"},{\"attributes\":{\"callback\":null},\"id\":\"649bdc5e-2bf6-4b38-8377-d2df199c732a\",\"type\":\"DataRange1d\"},{\"attributes\":{\"plot\":{\"id\":\"b11e231e-7304-491b-a80d-aee8dd5d2609\",\"subtype\":\"Figure\",\"type\":\"Plot\"}},\"id\":\"90c00fb6-e108-491f-9af7-5d45b250388c\",\"type\":\"HelpTool\"},{\"attributes\":{},\"id\":\"637f64a5-2eae-4159-b231-8effe93eeba1\",\"type\":\"ToolEvents\"},{\"attributes\":{\"data_source\":{\"id\":\"7e965cf0-8d69-402c-a36b-726184cdc318\",\"type\":\"ColumnDataSource\"},\"glyph\":{\"id\":\"1900d8d1-c7f7-4926-a2be-38f64c79d7ea\",\"type\":\"Circle\"},\"hover_glyph\":null,\"nonselection_glyph\":{\"id\":\"04550029-cc8f-4bc4-b582-215120d19094\",\"type\":\"Circle\"},\"selection_glyph\":null},\"id\":\"a27a999c-354d-49e7-9a19-5cca38b9a237\",\"type\":\"GlyphRenderer\"},{\"attributes\":{},\"id\":\"4426e8b6-165d-4342-bc5c-7e57e465d93f\",\"type\":\"BasicTickFormatter\"},{\"attributes\":{\"dimension\":1,\"plot\":{\"id\":\"b11e231e-7304-491b-a80d-aee8dd5d2609\",\"subtype\":\"Figure\",\"type\":\"Plot\"},\"ticker\":{\"id\":\"46b20d9a-3a33-49d8-bb8b-03f22667648d\",\"type\":\"BasicTicker\"}},\"id\":\"9907a5cd-a30f-4763-8194-1e6ba9f0b95a\",\"type\":\"Grid\"},{\"attributes\":{\"plot\":{\"id\":\"be103f5d-fe7f-4b28-914f-0c9030ea5f47\",\"subtype\":\"Figure\",\"type\":\"Plot\"},\"ticker\":{\"id\":\"bf2a9a4e-58d3-4498-81ec-d136baf9e2c3\",\"type\":\"BasicTicker\"}},\"id\":\"ee1c0c59-285d-469f-9224-87bf91b46ee1\",\"type\":\"Grid\"},{\"attributes\":{},\"id\":\"d9ea4580-868a-45e2-ae3c-34bffd7f823c\",\"type\":\"BasicTickFormatter\"},{\"attributes\":{\"fill_color\":{\"value\":\"#1f77b4\"},\"line_color\":{\"value\":\"#1f77b4\"},\"x\":{\"field\":\"x\"},\"y\":{\"field\":\"y\"}},\"id\":\"1900d8d1-c7f7-4926-a2be-38f64c79d7ea\",\"type\":\"Circle\"},{\"attributes\":{\"plot\":{\"id\":\"b11e231e-7304-491b-a80d-aee8dd5d2609\",\"subtype\":\"Figure\",\"type\":\"Plot\"}},\"id\":\"83b6bb6b-79c9-4a2e-83e9-190787b960fa\",\"type\":\"ResetTool\"},{\"attributes\":{},\"id\":\"eea1a169-0fb9-4a84-b27e-db1e0a1ac703\",\"type\":\"BasicTicker\"},{\"attributes\":{\"formatter\":{\"id\":\"4426e8b6-165d-4342-bc5c-7e57e465d93f\",\"type\":\"BasicTickFormatter\"},\"plot\":{\"id\":\"082ef48b-89ff-4007-be12-35e0a2a9ebf5\",\"subtype\":\"Figure\",\"type\":\"Plot\"},\"ticker\":{\"id\":\"e0db152d-b004-4ce1-9f71-a7f8645d0a2d\",\"type\":\"BasicTicker\"}},\"id\":\"fca44f7c-96fb-4daa-a1e2-c567b086e0f7\",\"type\":\"LinearAxis\"},{\"attributes\":{\"callback\":null},\"id\":\"34da50d3-eeda-4b24-aa69-ed37ae6352bf\",\"type\":\"DataRange1d\"},{\"attributes\":{\"formatter\":{\"id\":\"965483bf-681b-4fbf-a1da-e94e8635f7b4\",\"type\":\"BasicTickFormatter\"},\"plot\":{\"id\":\"d954f117-62e5-4d8d-8ea6-6a8a7ea92c59\",\"subtype\":\"Figure\",\"type\":\"Plot\"},\"ticker\":{\"id\":\"15797b31-36ed-4f0c-ae63-c83558360843\",\"type\":\"BasicTicker\"}},\"id\":\"4aecee19-8fc6-4a87-9d1c-bb56b0e2858c\",\"type\":\"LinearAxis\"},{\"attributes\":{},\"id\":\"15797b31-36ed-4f0c-ae63-c83558360843\",\"type\":\"BasicTicker\"},{\"attributes\":{\"fill_alpha\":{\"value\":0.1},\"fill_color\":{\"value\":\"#1f77b4\"},\"line_alpha\":{\"value\":0.1},\"line_color\":{\"value\":\"#1f77b4\"},\"x\":{\"field\":\"x\"},\"y\":{\"field\":\"y\"}},\"id\":\"d41342bc-9a7f-49eb-8776-d6bd02292504\",\"type\":\"Circle\"},{\"attributes\":{\"fill_alpha\":{\"value\":0.1},\"fill_color\":{\"value\":\"#1f77b4\"},\"line_alpha\":{\"value\":0.1},\"line_color\":{\"value\":\"#1f77b4\"},\"x\":{\"field\":\"x\"},\"y\":{\"field\":\"y\"}},\"id\":\"aff598fc-abea-40ee-b71d-f3c0876b1b5c\",\"type\":\"Circle\"},{\"attributes\":{\"formatter\":{\"id\":\"d9ea4580-868a-45e2-ae3c-34bffd7f823c\",\"type\":\"BasicTickFormatter\"},\"plot\":{\"id\":\"75cbb985-1ea5-4dba-aff2-ad02068eaefc\",\"subtype\":\"Figure\",\"type\":\"Plot\"},\"ticker\":{\"id\":\"9d145dd3-96f2-4b38-8387-aae9791a36fb\",\"type\":\"BasicTicker\"}},\"id\":\"d4e09be4-f1e5-4e82-86e9-8a8b7c8dd178\",\"type\":\"LinearAxis\"},{\"attributes\":{\"plot\":{\"id\":\"3025ef3f-6e2b-45f4-a6ea-f072cee80b8d\",\"subtype\":\"Figure\",\"type\":\"Plot\"}},\"id\":\"854d1f74-6042-4db8-bed2-bf45a324376d\",\"type\":\"PanTool\"},{\"attributes\":{\"plot\":{\"id\":\"082ef48b-89ff-4007-be12-35e0a2a9ebf5\",\"subtype\":\"Figure\",\"type\":\"Plot\"}},\"id\":\"3e8cef99-182c-411a-927d-6ea02716ec10\",\"type\":\"ResetTool\"},{\"attributes\":{\"plot\":{\"id\":\"75cbb985-1ea5-4dba-aff2-ad02068eaefc\",\"subtype\":\"Figure\",\"type\":\"Plot\"},\"ticker\":{\"id\":\"37eba5e2-6852-4f54-a317-a164e1039e3b\",\"type\":\"BasicTicker\"}},\"id\":\"0ed36d90-cdb7-4654-9a6a-fe8e13df431a\",\"type\":\"Grid\"},{\"attributes\":{\"bottom_units\":\"screen\",\"fill_alpha\":{\"value\":0.5},\"fill_color\":{\"value\":\"lightgrey\"},\"left_units\":\"screen\",\"level\":\"overlay\",\"line_alpha\":{\"value\":1.0},\"line_color\":{\"value\":\"black\"},\"line_dash\":[4,4],\"line_width\":{\"value\":2},\"plot\":null,\"render_mode\":\"css\",\"right_units\":\"screen\",\"top_units\":\"screen\"},\"id\":\"a9fa0f41-34aa-4501-a3ab-d3bb2857add2\",\"type\":\"BoxAnnotation\"},{\"attributes\":{\"below\":[{\"id\":\"ad472559-fb30-4ec0-9466-e4774a5e054b\",\"type\":\"LinearAxis\"}],\"left\":[{\"id\":\"0dd405f5-4b9f-4441-a5e7-0484b358980c\",\"type\":\"LinearAxis\"}],\"renderers\":[{\"id\":\"ad472559-fb30-4ec0-9466-e4774a5e054b\",\"type\":\"LinearAxis\"},{\"id\":\"ee1c0c59-285d-469f-9224-87bf91b46ee1\",\"type\":\"Grid\"},{\"id\":\"0dd405f5-4b9f-4441-a5e7-0484b358980c\",\"type\":\"LinearAxis\"},{\"id\":\"44ab9bd5-f30c-4e86-a127-52ca9a85f839\",\"type\":\"Grid\"},{\"id\":\"a9fa0f41-34aa-4501-a3ab-d3bb2857add2\",\"type\":\"BoxAnnotation\"},{\"id\":\"5246120d-daa1-4c36-a475-e085de03209b\",\"type\":\"GlyphRenderer\"}],\"title\":\"Bokeh Markers\",\"tool_events\":{\"id\":\"c887f5c1-b65d-4943-b9e6-eb9feed36c5c\",\"type\":\"ToolEvents\"},\"toolbar_location\":null,\"tools\":[{\"id\":\"3c6ae89e-ed5d-4f5e-b98e-514dbf583a88\",\"type\":\"PanTool\"},{\"id\":\"23292474-7f01-4ec8-ac91-cf28b49d4775\",\"type\":\"WheelZoomTool\"},{\"id\":\"3a45366b-457e-4309-aedd-ad8d676f5d70\",\"type\":\"BoxZoomTool\"},{\"id\":\"f32fdece-be95-4a9a-a079-bf5aeaa270ad\",\"type\":\"PreviewSaveTool\"},{\"id\":\"271ce9c6-1351-4de0-bfa3-3b4954df218c\",\"type\":\"ResizeTool\"},{\"id\":\"02d354f4-3ac7-4330-a497-04197bd7e5f5\",\"type\":\"ResetTool\"},{\"id\":\"0788fdf9-b8dc-44f2-9a94-52c54532c5c8\",\"type\":\"HelpTool\"}],\"x_range\":{\"id\":\"ce1b7032-d726-4dd2-aa9c-74138f8dc0a7\",\"type\":\"DataRange1d\"},\"y_range\":{\"id\":\"97f87a02-88a5-4916-931a-01aa4180d5dc\",\"type\":\"DataRange1d\"}},\"id\":\"be103f5d-fe7f-4b28-914f-0c9030ea5f47\",\"subtype\":\"Figure\",\"type\":\"Plot\"},{\"attributes\":{\"data_source\":{\"id\":\"46efbd7a-8fe5-4f6f-b46c-7741d238a841\",\"type\":\"ColumnDataSource\"},\"glyph\":{\"id\":\"80eac9c5-3cf9-4690-a9f7-9fc36f2b5e33\",\"type\":\"Circle\"},\"hover_glyph\":null,\"nonselection_glyph\":{\"id\":\"aff598fc-abea-40ee-b71d-f3c0876b1b5c\",\"type\":\"Circle\"},\"selection_glyph\":null},\"id\":\"7d3c79f6-4ea9-41db-a49e-82519bc98e7c\",\"type\":\"GlyphRenderer\"},{\"attributes\":{\"bottom_units\":\"screen\",\"fill_alpha\":{\"value\":0.5},\"fill_color\":{\"value\":\"lightgrey\"},\"left_units\":\"screen\",\"level\":\"overlay\",\"line_alpha\":{\"value\":1.0},\"line_color\":{\"value\":\"black\"},\"line_dash\":[4,4],\"line_width\":{\"value\":2},\"plot\":null,\"render_mode\":\"css\",\"right_units\":\"screen\",\"top_units\":\"screen\"},\"id\":\"81e4e95f-e476-43c7-8471-1ff08b6bb19b\",\"type\":\"BoxAnnotation\"},{\"attributes\":{},\"id\":\"90f2434e-ad37-4e8a-8de7-d7de137d1aac\",\"type\":\"BasicTickFormatter\"},{\"attributes\":{\"plot\":{\"id\":\"75cbb985-1ea5-4dba-aff2-ad02068eaefc\",\"subtype\":\"Figure\",\"type\":\"Plot\"}},\"id\":\"a2f504e6-e18a-4b14-aa8b-e376c45e4464\",\"type\":\"ResizeTool\"},{\"attributes\":{\"dimension\":1,\"plot\":{\"id\":\"3025ef3f-6e2b-45f4-a6ea-f072cee80b8d\",\"subtype\":\"Figure\",\"type\":\"Plot\"},\"ticker\":{\"id\":\"dbec2c43-08ee-4a89-8b00-b73a21950c6a\",\"type\":\"BasicTicker\"}},\"id\":\"21261a4f-12dc-4b29-825c-745e36fe8609\",\"type\":\"Grid\"}],\"root_ids\":[\"3025ef3f-6e2b-45f4-a6ea-f072cee80b8d\",\"082ef48b-89ff-4007-be12-35e0a2a9ebf5\",\"be103f5d-fe7f-4b28-914f-0c9030ea5f47\",\"b11e231e-7304-491b-a80d-aee8dd5d2609\",\"d954f117-62e5-4d8d-8ea6-6a8a7ea92c59\",\"75cbb985-1ea5-4dba-aff2-ad02068eaefc\"]},\"title\":\"Bokeh Application\",\"version\":\"0.11.1\"}};\n",
       "            var render_items = [{\"docid\":\"65ad7e59-744b-4c46-bf35-ee36b3e9bc0b\",\"elementid\":\"7fc56ce0-ced5-48c9-b695-71495730c81d\",\"modelid\":\"75cbb985-1ea5-4dba-aff2-ad02068eaefc\",\"notebook_comms_target\":\"e93146c6-db73-4ec2-bc2c-dfdda219d47b\"}];\n",
       "            \n",
       "            Bokeh.embed.embed_items(docs_json, render_items);\n",
       "        });\n",
       "      },\n",
       "      function(Bokeh) {\n",
       "      }\n",
       "    ];\n",
       "  \n",
       "    function run_inline_js() {\n",
       "      for (var i = 0; i < inline_js.length; i++) {\n",
       "        inline_js[i](window.Bokeh);\n",
       "      }\n",
       "    }\n",
       "  \n",
       "    if (window._bokeh_is_loading === 0) {\n",
       "      console.log(\"Bokeh: BokehJS loaded, going straight to plotting\");\n",
       "      run_inline_js();\n",
       "    } else {\n",
       "      load_libs(js_urls, function() {\n",
       "        console.log(\"Bokeh: BokehJS plotting callback run at\", now());\n",
       "        run_inline_js();\n",
       "      });\n",
       "    }\n",
       "  }(this));\n",
       "</script>"
      ]
     },
     "metadata": {},
     "output_type": "display_data"
    },
    {
     "data": {
      "text/html": [
       "<p><code>&lt;Bokeh Notebook handle for <strong>In[15]</strong>&gt;</code></p>"
      ],
      "text/plain": [
       "<bokeh.io._CommsHandle at 0x1547c4c10>"
      ]
     },
     "execution_count": 15,
     "metadata": {},
     "output_type": "execute_result"
    }
   ],
   "source": [
    "p = figure(title=\"hbond score vs o-h dist\", toolbar_location=None)\n",
    "p.scatter(hbdis, hbscore)\n",
    "show(p)"
   ]
  },
  {
   "cell_type": "code",
   "execution_count": null,
   "metadata": {
    "collapsed": true
   },
   "outputs": [],
   "source": []
  }
 ],
 "metadata": {
  "kernelspec": {
   "display_name": "Python 2",
   "language": "python",
   "name": "python2"
  },
  "language_info": {
   "codemirror_mode": {
    "name": "ipython",
    "version": 2
   },
   "file_extension": ".py",
   "mimetype": "text/x-python",
   "name": "python",
   "nbconvert_exporter": "python",
   "pygments_lexer": "ipython2",
   "version": "2.7.11"
  }
 },
 "nbformat": 4,
 "nbformat_minor": 0
}
